{
 "cells": [
  {
   "cell_type": "markdown",
   "id": "307a2067",
   "metadata": {},
   "source": [
    "# Data Download #\n",
    "\n",
    "This notebook includes the instructions and runs the code to download the data for the workshop."
   ]
  },
  {
   "cell_type": "markdown",
   "id": "29fa58ca",
   "metadata": {},
   "source": [
    "## GATAs ChIP ##\n",
    "\n",
    "### Data from Yan et al. ###\n",
    "\n",
    "The original paper is avaiable here: https://www.cell.com/cell/fulltext/S0092-8674(13)00942-2?_returnURL=https%3A%2F%2Flinkinghub.elsevier.com%2Fretrieve%2Fpii%2FS0092867413009422%3Fshowall%3Dtrue .\n",
    "Accession number is [GSE49402](https://www.ncbi.nlm.nih.gov/geo/query/acc.cgi?acc=GSE49402).\n",
    "\n",
    "We download different GATA datasets.\n",
    "\n",
    "Downloaded files needs to be processed, because originally they include summary from MACS2 and columns are not ordered the way HOMER accepts. In addition, the provied regions are 1-based, instead of 0-based. For this a specific R script is used."
   ]
  },
  {
   "cell_type": "code",
   "execution_count": null,
   "id": "0d5ec910-fc70-4b5f-af9e-2d915ec41a4c",
   "metadata": {
    "scrolled": false,
    "tags": []
   },
   "outputs": [],
   "source": [
    "%%bash\n",
    "\n",
    "echo \"; Creating data directory\"\n",
    "\n",
    "data_dir=\"peak_sets\"\n",
    "mkdir -p $data_dir\n",
    "\n",
    "echo \"; Downloading data to a directory.\"\n",
    "\n",
    "# GATA1\n",
    "wget -qO - https://ftp.ncbi.nlm.nih.gov/geo/samples/GSM1208nnn/GSM1208749/suppl/GSM1208749_batch2_chrom1_LoVo_GATA1_PassedQC_peaks.txt.gz | gunzip > GATA1_LoVo_peaks.txt\n",
    "mv GATA1_LoVo_peaks.txt $data_dir/GATA1_LoVo_peaks.txt ;\n",
    "\n",
    "# GATA2 (failed QC according to the authors)\n",
    "wget -qO - https://ftp.ncbi.nlm.nih.gov/geo/samples/GSM1208nnn/GSM1208619/suppl/GSM1208619_batch1_chrom1_LoVo_GATA2_FailedQC_peaks.txt.gz | gunzip > GATA2_LoVo_peaks.txt\n",
    "mv GATA2_LoVo_peaks.txt $data_dir/GATA2_LoVo_peaks.txt ;\n",
    "\n",
    "# GATA4 \n",
    "wget -qO - https://ftp.ncbi.nlm.nih.gov/geo/samples/GSM1208nnn/GSM1208620/suppl/GSM1208620_batch1_chrom1_LoVo_GATA4_PassedQC_peaks.txt.gz | gunzip > GATA4_LoVo_peaks.txt\n",
    "mv GATA4_LoVo_peaks.txt $data_dir/GATA4_LoVo_peaks.txt ;"
   ]
  },
  {
   "attachments": {},
   "cell_type": "markdown",
   "id": "f7a34f90",
   "metadata": {},
   "source": [
    "The generation of the narrowPeak files in this case is done from the following files:\n",
    "\n",
    "* ```peak_sets/GATA1_LoVo_peaks.txt```\n",
    "* ```peak_sets/GATA2_LoVo_peaks.txt```\n",
    "* ```peak_sets/GATA4_LoVo_peaks.txt```\n",
    "\n",
    "These files start with a header that needs to be skipped. Once done, we reformat the file to follow the ```.narrowPeak``` format, add the \"chr\" string in the first column, and skip non-canonical chromosomes. The resulting file is then randomly subset to select 5000 random peaks. "
   ]
  },
  {
   "cell_type": "code",
   "execution_count": 8,
   "id": "fda3abe9-d159-46f1-ba5e-d974e8d971a0",
   "metadata": {
    "scrolled": true,
    "vscode": {
     "languageId": "shellscript"
    }
   },
   "outputs": [],
   "source": [
    "%%bash\n",
    "\n",
    "data_dir=\"peak_sets\"\n",
    "\n",
    "taipale_peaks=($(find $data_dir -name \"GATA*_peaks.txt\"))\n",
    "nb_of_sampled_peaks=2000\n",
    "\n",
    "for dataset in ${taipale_peaks[@]}; do\n",
    "\n",
    "    # Format the peaks to narrowPeak with summit in column 10\n",
    "    # We also remove non-canonical chromosomes\n",
    "    awk -v OFS='\\t' '$0 !~ \"#\" && $0 !~ \"chr\" {print}' $dataset \\\n",
    "    | tail -n +2 \\\n",
    "    | awk -v OFS='\\t' '{print \"chr\"$1, $2, $3, \".\", \".\", \".\", \".\", \".\", \".\", $5}' \\\n",
    "    | grep -v \"chrNT\" \\\n",
    "    > ${dataset//\".txt\"/\".narrowPeak\"}\n",
    "    \n",
    "    peak_file=${dataset//\".txt\"/\".narrowPeak\"}\n",
    "    \n",
    "    # Subset n peaks\n",
    "    [ $(wc -l < $peak_file) -ge $nb_of_sampled_peaks ] && shuf -n $nb_of_sampled_peaks $peak_file \\\n",
    "    > ${peak_file//\"_peaks.narrowPeak\"/\"_\"$nb_of_sampled_peaks\"peaks.narrowPeak\"} || cat $peak_file > ${peak_file//\"_peaks.narrowPeak\"/\"_\"$nb_of_sampled_peaks\"peaks.narrowPeak\"}\n",
    "    \n",
    "done"
   ]
  },
  {
   "cell_type": "markdown",
   "id": "e954b467",
   "metadata": {},
   "source": [
    "The peak sets in `.narrowPeak` format then needs to be converted into fasta sequences."
   ]
  },
  {
   "cell_type": "code",
   "execution_count": 7,
   "id": "219e12a2",
   "metadata": {
    "vscode": {
     "languageId": "shellscript"
    }
   },
   "outputs": [
    {
     "name": "stdout",
     "output_type": "stream",
     "text": [
      "peak_sets/GATA4_LoVo_2000peaks.narrowPeak\n"
     ]
    }
   ],
   "source": [
    "%%bash\n",
    "\n",
    "## Data and output directories:\n",
    "data_dir=\"peak_sets\" ;\n",
    "output_dir=\"fasta_peak_sets\" ;\n",
    "genomes_dir=\"/home/ievarau/Documents/genomes\"\n",
    "nb_of_sampled_peaks=2000\n",
    "\n",
    "## Creating output directory:\n",
    "mkdir -p $output_dir ;\n",
    "\n",
    "## hg18 datasets\n",
    "hg18datasets=($(find $data_dir -name \"GATA*_\"${nb_of_sampled_peaks}\"peaks.narrowPeak\"))\n",
    "\n",
    "for dataset in ${hg18datasets[@]}\n",
    "do\n",
    "    dset_bname=$(basename ${dataset%\"_\"${nb_of_sampled_peaks}\"peaks.narrowPeak\"});\n",
    "    \n",
    "    echo $dset_bname\n",
    "    \n",
    "    awk -v OFS='\\t' '{print $1, $2 + $10, $2 + $10 + 1}' $dataset \\\n",
    "    | bedtools slop -g ${genomes_dir}/hg18/hg18.chrom.sizes -b 50 \\\n",
    "    | bedtools getfasta -fi ${genomes_dir}/hg18/hg18.fa -bed stdin \\\n",
    "    > ${output_dir}/${dset_bname}_fasta_sequences.fa ;\n",
    "\n",
    "done ;"
   ]
  },
  {
   "cell_type": "markdown",
   "id": "d5b8151b-a87d-4edc-a1ea-91e154e670b7",
   "metadata": {},
   "source": [
    "### Data from UniBind ###\n",
    "\n",
    "Below are the peak datasets that were processed for UniBind 2021 and we now will re-process:\n",
    "\n",
    "* ```NR3C1_A549-lung-carcinoma-0h_peaks.narrowPeak```\n",
    "* ```NR3C1_A549-lung-carcinoma-10min_peaks.narrowPeak```\n",
    "* ```NR3C1_A549-lung-carcinoma-8h_peaks.narrowPeak```\n",
    "\n",
    "Due to the large number of peaks in some of the files, which then prolongs the motif discovery, we sample a specific number of peaks, when files have more peaks than that number.\n"
   ]
  },
  {
   "cell_type": "code",
   "execution_count": 21,
   "id": "18025308-123e-4e61-b732-e766f47ad095",
   "metadata": {
    "scrolled": true,
    "vscode": {
     "languageId": "shellscript"
    }
   },
   "outputs": [
    {
     "name": "stdout",
     "output_type": "stream",
     "text": [
      "; Sampling peaks to reduce the runtime of analysis.\n",
      "peak_sets/NR3C1_A549-lung-carcinoma-0h_peaks.narrowPeak\n",
      "peak_sets/NR3C1_A549-lung-carcinoma-10min_peaks.narrowPeak\n",
      "peak_sets/NR3C1_A549-lung-carcinoma-8h_peaks.narrowPeak\n"
     ]
    }
   ],
   "source": [
    "%%bash\n",
    "\n",
    "## Subsetting random 5000 peaks\n",
    "\n",
    "echo \"; Sampling peaks to reduce the runtime of analysis.\"\n",
    "\n",
    "data_dir=\"peak_sets\"\n",
    "nb_of_sampled_peaks=40000\n",
    "\n",
    "for peak_file in $data_dir/NR3C1*.narrowPeak ; do\n",
    "\n",
    "    echo $peak_file\n",
    "\n",
    "    [ $(wc -l < $peak_file) -ge $nb_of_sampled_peaks ] && shuf -n $nb_of_sampled_peaks $peak_file \\\n",
    "    > ${peak_file//\"_peaks.narrowPeak\"/\"_\"${nb_of_sampled_peaks}\"peaks.narrowPeak\"} || cat $peak_file > ${peak_file//\"_peaks.narrowPeak\"/\"_\"${nb_of_sampled_peaks}\"peaks.narrowPeak\"}\n",
    "\n",
    "done ;\n"
   ]
  },
  {
   "cell_type": "code",
   "execution_count": 22,
   "id": "6933b4a0",
   "metadata": {
    "vscode": {
     "languageId": "shellscript"
    }
   },
   "outputs": [],
   "source": [
    "%%bash\n",
    "\n",
    "## Data and output directories:\n",
    "data_dir=\"peak_sets\" ;\n",
    "output_dir=\"fasta_peak_sets\" ;\n",
    "genomes_dir=\"/home/ievarau/Documents/genomes\"\n",
    "nb_of_sampled_peaks=40000\n",
    "\n",
    "## Creating output directory:\n",
    "mkdir -p $output_dir ;\n",
    "\n",
    "## hg38 datasets:\n",
    "hg38datasets=($(find $data_dir -name \"NR3C1*_\"${nb_of_sampled_peaks}\"peaks.narrowPeak\"))\n",
    "\n",
    "for dataset in ${hg38datasets[@]}\n",
    "do\n",
    "    dset_bname=$(basename ${dataset%\"_\"${nb_of_sampled_peaks}\"peaks.narrowPeak\"});\n",
    "    \n",
    "    awk -v OFS='\\t' '{print $1, $2 + $10, $2 + $10 + 1}' $dataset \\\n",
    "    | bedtools slop -g ${genomes_dir}/hg38/hg38.chrom.sizes -b 50 \\\n",
    "    | bedtools getfasta -fi ${genomes_dir}/hg38/hg38.fa -bed stdin \\\n",
    "    > ${output_dir}/${dset_bname}_fasta_sequences.fa ;\n",
    "\n",
    "done ;"
   ]
  }
 ],
 "metadata": {
  "kernelspec": {
   "display_name": "Python 3 (ipykernel)",
   "language": "python",
   "name": "python3"
  },
  "language_info": {
   "codemirror_mode": {
    "name": "ipython",
    "version": 3
   },
   "file_extension": ".py",
   "mimetype": "text/x-python",
   "name": "python",
   "nbconvert_exporter": "python",
   "pygments_lexer": "ipython3",
   "version": "3.10.8"
  },
  "vscode": {
   "interpreter": {
    "hash": "e7370f93d1d0cde622a1f8e1c04877d8463912d04d973331ad4851f04de6915a"
   }
  }
 },
 "nbformat": 4,
 "nbformat_minor": 5
}
